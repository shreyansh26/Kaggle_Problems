{
  "nbformat": 4,
  "nbformat_minor": 0,
  "metadata": {
    "colab": {
      "name": "Mars Rotation.ipynb",
      "provenance": [],
      "collapsed_sections": []
    },
    "kernelspec": {
      "name": "python3",
      "display_name": "Python 3"
    },
    "language_info": {
      "name": "python"
    },
    "accelerator": "GPU"
  },
  "cells": [
    {
      "cell_type": "markdown",
      "metadata": {
        "id": "vZ6yzlTkS379"
      },
      "source": [
        "## AI Blitz #7 Mars Rotation 0.0 MSE simple Solution pipeline with EfficientNet B4"
      ]
    },
    {
      "cell_type": "markdown",
      "metadata": {
        "id": "X6VK8ILuTt4V"
      },
      "source": [
        "### **Hello!**\n",
        "In this notebook I present my journey of finding the (maybe?) perfect solution for this task.\n",
        "In the first part I will tell you my solution.\n",
        "\n",
        "In the second part I will show you the code and explain it.\n",
        "\n",
        "**Problem**\n",
        "\n",
        "In this task you get an image of the mars which has different positions and you have to output the rotation in the Z - axis for the mars.\n",
        " \n",
        "### My solution\n",
        "\n",
        "In the development of this solution i tried to be as simple and effective as possible. For this reason I didn't use any fancy augmentatios or some complicated training methods. That is why the code is very short and easy to understand for beginners.\n",
        "\n",
        "For the code I mostly use Pytorch Lightning to speed up the coding and to simplify the code a lot.\n",
        "\n",
        "**Key parts:**\n",
        "*   strong model -> *EfficientNets B4 360 classes*\n",
        "*   *230* crop size\n",
        "*   *TTA 4* (Test time augmentations)\n",
        "\n",
        "*From REGRESSION task to CLASSIFICATION task!*\n",
        "\n",
        "This was very important because a classification task is always easier than a regression task. That is why the model has 360 output classes.\n",
        "\n",
        "**Preprocessing**\n",
        "\n",
        "I used 230 x 230 cropped images because its the size where the mars is always nearly fully visible and there is no gap between the mars and the image border.\n",
        "I only used flipping at training.\n",
        "\n",
        "**Model**\n",
        "\n",
        "I chose EfficientNet B4 with pretrained weights because it is a lightweight and strong model. This means that you don't have to use complicated training methods or heavy augmentations. It is also very fast at training.\n",
        "\n",
        "**Training**\n",
        "\n",
        "\n",
        "*   50 epochs\n",
        "*   3e-4 lr without lr schedules\n",
        "*   Adam optimiser\n",
        "*   64 batch size\n",
        "*   mixes precision -> more speed and efficiency\n",
        "*   Cross Entropy as loss fn\n",
        "*   f1 score metric\n",
        "\n",
        "**Inference**\n",
        "\n",
        "For inference I chose the best model from training and used TTA.\n",
        "TTA stands for TestTimeAugmetation and it uses augmentations to let the model predict different outputs. In my case i used vertical flip and horizontal flip so that i can make 4 different images out of one. After that the mean ouput of the 4 runs will be taken for the submission.\n",
        "\n"
      ]
    },
    {
      "cell_type": "markdown",
      "metadata": {
        "id": "n_TDo2tmpcX1"
      },
      "source": [
        "\n",
        "\n",
        "---\n",
        "\n",
        "\n",
        "\n"
      ]
    },
    {
      "cell_type": "markdown",
      "metadata": {
        "id": "zxpuvkFMfTBZ"
      },
      "source": [
        "### Install the packages"
      ]
    },
    {
      "cell_type": "code",
      "metadata": {
        "colab": {
          "base_uri": "https://localhost:8080/"
        },
        "id": "qa4yuzfhJDQb",
        "outputId": "4766cb3c-19ac-4760-ea1d-ecea3ca054e6"
      },
      "source": [
        "!pip install -q aicrowd-cli==0.1\n",
        "!pip install -q efficientnet_pytorch\n",
        "!pip install -q pytorch-lightning"
      ],
      "execution_count": null,
      "outputs": [
        {
          "output_type": "stream",
          "text": [
            "\u001b[K     |████████████████████████████████| 61kB 5.5MB/s \n",
            "\u001b[K     |████████████████████████████████| 204kB 14.5MB/s \n",
            "\u001b[K     |████████████████████████████████| 163kB 24.3MB/s \n",
            "\u001b[K     |████████████████████████████████| 51kB 5.9MB/s \n",
            "\u001b[K     |████████████████████████████████| 71kB 8.6MB/s \n",
            "\u001b[?25h  Building wheel for efficientnet-pytorch (setup.py) ... \u001b[?25l\u001b[?25hdone\n",
            "\u001b[K     |████████████████████████████████| 829kB 5.6MB/s \n",
            "\u001b[K     |████████████████████████████████| 112kB 13.8MB/s \n",
            "\u001b[K     |████████████████████████████████| 276kB 11.6MB/s \n",
            "\u001b[K     |████████████████████████████████| 829kB 13.1MB/s \n",
            "\u001b[K     |████████████████████████████████| 184kB 20.2MB/s \n",
            "\u001b[K     |████████████████████████████████| 1.3MB 20.9MB/s \n",
            "\u001b[K     |████████████████████████████████| 143kB 39.4MB/s \n",
            "\u001b[K     |████████████████████████████████| 296kB 31.2MB/s \n",
            "\u001b[?25h  Building wheel for PyYAML (setup.py) ... \u001b[?25l\u001b[?25hdone\n",
            "  Building wheel for future (setup.py) ... \u001b[?25l\u001b[?25hdone\n"
          ],
          "name": "stdout"
        }
      ]
    },
    {
      "cell_type": "markdown",
      "metadata": {
        "id": "uEkWl3N-dssJ"
      },
      "source": [
        "### Login to aicrowd's API"
      ]
    },
    {
      "cell_type": "code",
      "metadata": {
        "colab": {
          "base_uri": "https://localhost:8080/"
        },
        "id": "whwWCX6aJdiq",
        "outputId": "eb1782db-f64e-4c08-de3a-3a775a675b62"
      },
      "source": [
        "API_KEY = \"\"  # Please enter your API Key from [https://www.aicrowd.com/participants/me]\n",
        "!aicrowd login --api-key $API_KEY"
      ],
      "execution_count": null,
      "outputs": [
        {
          "output_type": "stream",
          "text": [
            "\u001b[32mAPI Key valid\u001b[0m\n",
            "\u001b[32mSaved API Key successfully!\u001b[0m\n"
          ],
          "name": "stdout"
        }
      ]
    },
    {
      "cell_type": "markdown",
      "metadata": {
        "id": "lclou0O-d4ug"
      },
      "source": [
        "### Download the dataset"
      ]
    },
    {
      "cell_type": "code",
      "metadata": {
        "colab": {
          "base_uri": "https://localhost:8080/"
        },
        "id": "XWQpOfzhJkWC",
        "outputId": "286708bf-396d-45ec-dfae-9246c6ca4d07"
      },
      "source": [
        "!aicrowd dataset download --challenge mars-rotation\n",
        "\n",
        "!rm -rf data\n",
        "!mkdir data\n",
        "\n",
        "!unzip -q train.zip  -d data/train\n",
        "!unzip -q val.zip -d data/val\n",
        "!unzip -q test.zip  -d data/test\n",
        "\n",
        "!mv train.csv data/train.csv\n",
        "!mv val.csv data/val.csv\n",
        "!mv sample_submission.csv data/sample_submission.csv"
      ],
      "execution_count": null,
      "outputs": [
        {
          "output_type": "stream",
          "text": [
            "sample_submission.csv: 100% 95.9k/95.9k [00:00<00:00, 588kB/s]\n",
            "test.zip: 100% 76.5M/76.5M [00:02<00:00, 30.7MB/s]\n",
            "train.csv: 100% 377k/377k [00:00<00:00, 1.20MB/s]\n",
            "train.zip: 100% 306M/306M [00:08<00:00, 34.7MB/s]\n",
            "val.csv: 100% 33.7k/33.7k [00:00<00:00, 477kB/s]\n",
            "val.zip: 100% 30.6M/30.6M [00:02<00:00, 11.1MB/s]\n"
          ],
          "name": "stdout"
        }
      ]
    },
    {
      "cell_type": "markdown",
      "metadata": {
        "id": "mXnQh70AeAOY"
      },
      "source": [
        "### Import libraries"
      ]
    },
    {
      "cell_type": "code",
      "metadata": {
        "id": "63ODtZUsLEyD"
      },
      "source": [
        "import os\n",
        "import cv2\n",
        "import pandas as pd\n",
        "\n",
        "import torch\n",
        "from torch import nn\n",
        "import torch.nn.functional as F\n",
        "from torch.utils.data import Dataset, DataLoader\n",
        "\n",
        "from efficientnet_pytorch import EfficientNet\n",
        "import pytorch_lightning as pl\n",
        "from pytorch_lightning import Trainer\n",
        "\n",
        "import matplotlib.pyplot as plt\n",
        "import albumentations as A\n",
        "from albumentations.augmentations.transforms import Flip\n"
      ],
      "execution_count": null,
      "outputs": []
    },
    {
      "cell_type": "markdown",
      "metadata": {
        "id": "osMs9UFHeQHR"
      },
      "source": [
        "### Define the dataset"
      ]
    },
    {
      "cell_type": "markdown",
      "metadata": {
        "id": "L62gCyYPf0tR"
      },
      "source": [
        "A Dataset consists of a __getitem__ functions with a index parameter and a __len__ functions wich returns the lenght of the dataset. If you want to use a DataLoader it is essential to set up a Dataset like this."
      ]
    },
    {
      "cell_type": "code",
      "metadata": {
        "id": "6Oe2SuYoIf9G"
      },
      "source": [
        "class ImgDataset(Dataset):\n",
        "    def __init__(self,df,mode,transforms = None):\n",
        "        self.imageID = df['ImageID']      # Set up the paths and labels\n",
        "        self.labels = df['label']\n",
        "        self.transforms = transforms\n",
        "        self.mode = mode\n",
        "        \n",
        "    def __getitem__(self,x):\n",
        "        # Read images\n",
        "        path = self.imageID.iloc[x]\n",
        "        label = float(self.labels.iloc[x])\n",
        "        i = cv2.imread(f'data/{self.mode}/'+str(path)+'.jpg')\n",
        "        i = cv2.cvtColor(i, cv2.COLOR_BGR2RGB)\n",
        "\n",
        "        # Apply transformations\n",
        "        if self.transforms:\n",
        "            i = self.transforms(image = i)['image']\n",
        "        i = cv2.resize(i,(128,128))\n",
        "        i = torch.tensor(i) / 255.0\n",
        "        i = i.permute(2,0,1)\n",
        "\n",
        "        if self.mode != 'test':\n",
        "            return i, label-1\n",
        "        else:\n",
        "            return i\n",
        "    \n",
        "    def __len__(self):\n",
        "        return len(self.imageID)\n",
        "\n",
        "# Functions return dataset\n",
        "def getTrainDs(train_tr = None):\n",
        "    train_df = pd.read_csv('data/train.csv')\n",
        "    return ImgDataset(train_df,'train',train_tr)\n",
        "\n",
        "def getValDs(val_tr):\n",
        "    val_df = pd.read_csv('data/val.csv')\n",
        "    return ImgDataset(val_df,'val',val_tr)\n",
        "\n",
        "def getTestDs(test_tr):\n",
        "    val_df = pd.read_csv('data/sample_submission.csv')\n",
        "    return ImgDataset(val_df,'test',test_tr)\n",
        "\n",
        "def writeSub(p):\n",
        "    test_df = pd.read_csv('data/sample_submission.csv')"
      ],
      "execution_count": null,
      "outputs": []
    },
    {
      "cell_type": "markdown",
      "metadata": {
        "id": "5PJi5acrL2oz"
      },
      "source": [
        "### Find the optimal image size"
      ]
    },
    {
      "cell_type": "markdown",
      "metadata": {
        "id": "_wPma8grfiK6"
      },
      "source": [
        "Here is a small demonstatration for the reason of choosing 230 as crop size.\n"
      ]
    },
    {
      "cell_type": "code",
      "metadata": {
        "colab": {
          "base_uri": "https://localhost:8080/",
          "height": 294
        },
        "id": "pO08JiqBLHC7",
        "outputId": "081f00b1-00df-476c-f9fc-f83d38f2a9ca"
      },
      "source": [
        "fig, ((ax1, ax2), (ax3, ax4)) = plt.subplots(2, 2)\n",
        "axes = [ax1,ax2,ax3,ax4]\n",
        "\n",
        "train_tr = A.Compose([\n",
        "    A.CenterCrop(230,230,always_apply=True),\n",
        "])\n",
        "\n",
        "noresizeLoader = getTrainDs()\n",
        "resizeLoader = getTrainDs(train_tr)\n",
        "\n",
        "fig.suptitle('Too much space around object!')\n",
        "for i, ax in enumerate(axes):\n",
        "  ax.imshow(noresizeLoader.__getitem__(i)[0].permute(1,2,0))"
      ],
      "execution_count": null,
      "outputs": [
        {
          "output_type": "display_data",
          "data": {
            "image/png": "[encoded data removed]",
            "text/plain": [
              "<Figure size 432x288 with 4 Axes>"
            ]
          },
          "metadata": {
            "tags": [],
            "needs_background": "light"
          }
        }
      ]
    },
    {
      "cell_type": "code",
      "metadata": {
        "colab": {
          "base_uri": "https://localhost:8080/",
          "height": 294
        },
        "id": "BZe2ltubM9f8",
        "outputId": "5e337f12-811f-4391-8426-2b1ef79aba2b"
      },
      "source": [
        "fig, ((ax1, ax2), (ax3, ax4)) = plt.subplots(2, 2)\n",
        "axes = [ax1,ax2,ax3,ax4]\n",
        "\n",
        "fig.suptitle('Less space around object')\n",
        "for i, ax in enumerate(axes):\n",
        "  ax.imshow(resizeLoader.__getitem__(i)[0].permute(1,2,0))"
      ],
      "execution_count": null,
      "outputs": [
        {
          "output_type": "display_data",
          "data": {
            "image/png": "[encoded data removed]",
            "text/plain": [
              "<Figure size 432x288 with 4 Axes>"
            ]
          },
          "metadata": {
            "tags": [],
            "needs_background": "light"
          }
        }
      ]
    },
    {
      "cell_type": "markdown",
      "metadata": {
        "id": "M6Zy6eQxeysS"
      },
      "source": [
        "### The lightning module"
      ]
    },
    {
      "cell_type": "markdown",
      "metadata": {
        "id": "r1cX2VV-gv9p"
      },
      "source": [
        "If you want to use the trainer from Pytorch Lightning you need a Lightning Module. It is like a normal model in PyTorch but it also consist of training/validation/test step functions and dataloader-setup functions. It also can log the metrics to tensorboard with self.log().\n",
        "\n",
        "The step functions will get called from the trainer each iteration. It has to return the loss so that the model can be optimised.\n",
        "The _dataloader functions have to return the loaders."
      ]
    },
    {
      "cell_type": "code",
      "metadata": {
        "id": "TKz8a7ExLHkC"
      },
      "source": [
        "class Classifier(pl.LightningModule):\n",
        "    def __init__(self,args):\n",
        "        super().__init__()\n",
        "        self.args = args\n",
        "        self.resnet = EfficientNet.from_pretrained('efficientnet-b4',num_classes = 360)\n",
        "\n",
        "    def forward(self, x):\n",
        "        x = self.resnet(x)\n",
        "        return x\n",
        "    def training_step(self, batch, batch_idx):\n",
        "        x, y = batch\n",
        "        p = self(x)\n",
        "        loss = F.cross_entropy(p, y.long())\n",
        "\n",
        "        self.log('train_loss', loss) # log to tensorboard\n",
        "        return loss\n",
        "    \n",
        "    def validation_step(self, batch, batch_idx):\n",
        "        x, y = batch\n",
        "        p = self(x)\n",
        "        loss = F.cross_entropy(p, y.long())\n",
        "        f1 = f1_loss(y,p.argmax(1))\n",
        "\n",
        "        self.log('val_loss', loss)# log to tensorboard\n",
        "        self.log('val_f1',f1)\n",
        "        return loss\n",
        "    \n",
        "    def test_step(self, batch, batch_idx):\n",
        "        x, y = batch\n",
        "        p = self(x)\n",
        "        \n",
        "        loss = F.cross_entropy(p, y.long())\n",
        "        mse = F.mse_loss(p.argmax(1),y.float())\n",
        "\n",
        "        self.log('test_loss', loss)# log to tensorboard\n",
        "        self.log('test_mse',mse)\n",
        "        return loss\n",
        "    \n",
        "    def configure_optimizers(self):\n",
        "        optimizer = torch.optim.Adam(self.parameters(), lr=self.args['lr'])\n",
        "        return optimizer\n",
        "    \n",
        "    def train_dataloader(self):\n",
        "        train_ds = getTrainDs(self.args['train_tr'])\n",
        "        loader= DataLoader(train_ds,batch_size = self.args['batch_size'],num_workers = 4,shuffle=True)\n",
        "        return loader\n",
        "    \n",
        "    def val_dataloader(self):\n",
        "        val_ds = getValDs(self.args['val_tr'])\n",
        "        loader= DataLoader(val_ds,batch_size = self.args['batch_size'],num_workers = 4)\n",
        "        return loader\n",
        "    \n",
        "    def predict_dataloader(self):\n",
        "        val_ds = getTestDs(self.args['val_tr'])\n",
        "        loader= DataLoader(val_ds,batch_size = self.args['batch_size'],num_workers = 4)\n",
        "        return loader"
      ],
      "execution_count": null,
      "outputs": []
    },
    {
      "cell_type": "markdown",
      "metadata": {
        "id": "BslLkMgDivuq"
      },
      "source": [
        "### F1 score metric\n",
        "\n",
        "I used the f1_loss to compute the score on the validation set to get a rough estimate of the score on the leaderboard.\n",
        "\n",
        "It is the harmonic mean of the precision and recall scores. "
      ]
    },
    {
      "cell_type": "code",
      "metadata": {
        "id": "J591_gH4LHl6"
      },
      "source": [
        "def f1_loss(y_true:torch.Tensor, y_pred:torch.Tensor, is_training=False) -> torch.Tensor:\n",
        "\n",
        "    assert y_true.ndim == 1\n",
        "    assert y_pred.ndim == 1 or y_pred.ndim == 2\n",
        "\n",
        "    if y_pred.ndim == 2:\n",
        "        y_pred = y_pred.argmax(dim=1)\n",
        "    tp = (y_true * y_pred).sum().to(torch.float32)\n",
        "    tn = ((1 - y_true) * (1 - y_pred)).sum().to(torch.float32)\n",
        "    fp = ((1 - y_true) * y_pred).sum().to(torch.float32)\n",
        "    fn = (y_true * (1 - y_pred)).sum().to(torch.float32)\n",
        "\n",
        "    epsilon = 1e-7\n",
        "\n",
        "    precision = tp / (tp + fp + epsilon)\n",
        "    recall = tp / (tp + fn + epsilon)\n",
        "\n",
        "    f1 = 2* (precision*recall) / (precision + recall + epsilon)\n",
        "    f1.requires_grad = is_training\n",
        "    return f1"
      ],
      "execution_count": null,
      "outputs": []
    },
    {
      "cell_type": "markdown",
      "metadata": {
        "id": "kXbJ64j0lb6L"
      },
      "source": [
        "## Training"
      ]
    },
    {
      "cell_type": "markdown",
      "metadata": {
        "id": "XmBToEEUlugL"
      },
      "source": [
        "For the training I used the Trainer from Pytorch Lightning.\n",
        "On colab 50 epochs of training takes about 2 hours and 45 minutes.\n",
        "On my personal computer with a RTX 2070 Super it only took 1 hour and 34 minutes."
      ]
    },
    {
      "cell_type": "code",
      "metadata": {
        "id": "j_XbiolyLHnz"
      },
      "source": [
        "def run_training(): \n",
        "  img_size = 230\n",
        "\n",
        "  ckpt = pl.callbacks.model_checkpoint.ModelCheckpoint(save_top_k = -1)\n",
        "  \n",
        "  trainer = Trainer(max_epochs = 50,  \n",
        "                    gpus = 1, \n",
        "                    callbacks = ckpt, \n",
        "                    precision=16, \n",
        "                    amp_level='O1',\n",
        "                    deterministic=True,\n",
        "                    fast_dev_run = False\n",
        "                    )\n",
        "\n",
        "  train_tr = A.Compose([\n",
        "      A.CenterCrop(img_size,img_size,always_apply=True),\n",
        "      Flip()\n",
        "  ])\n",
        "\n",
        "  val_tr = A.Compose([\n",
        "      A.CenterCrop(img_size,img_size,always_apply=True)\n",
        "  ])\n",
        "\n",
        "  model = Classifier({'lr':3e-4,'batch_size':64,'train_tr':train_tr,'val_tr':val_tr}) # Here are all hyperparameters\n",
        "  trainer.fit(model)\n",
        "  trainer.test(model)"
      ],
      "execution_count": null,
      "outputs": []
    },
    {
      "cell_type": "code",
      "metadata": {
        "id": "KAM8fGVFRokg",
        "outputId": "608a20e8-192e-42a5-a719-eae4d6b5ef77",
        "colab": {
          "base_uri": "https://localhost:8080/",
          "height": 927,
          "referenced_widgets": [
            "069a7430cfaf48168c97beef6b64f907",
            "4385cc2bd80b47739078737d9a5d98e3",
            "e4e6ea6904a749b5ac5df1444e56d761",
            "01a86add2165464cbf58ebfaa26dd2b8",
            "aa41c19a93a14bfe8dc0186201c803cd",
            "22a96ead74f5404593a81ec673ad4a04",
            "adb797119c7940f793b7a473abd8cc03",
            "fc8eb06a9ee246ebb0e5673176a36579",
            "ff412e251d974dcfac632cc3f4798f85",
            "19648e70dca140ffaa57b0847e2516e2",
            "f95f08a2ed134748a895e8bbfb68c43b",
            "ac68b3f1e15b49c89665ac9039cffa7b",
            "604fa08abbc44128b39be512f4d943fe",
            "0cf276df52e7456e82cda59b07ca807b",
            "bff1c66c986a4799bb6110a42c69af80",
            "98bdd4ca0dc74fffa49db4ffa37bf980",
            "a6c16d861bcf48c687bda6b0de8e7345",
            "4afb33066d144c9ead7c325561654148",
            "914b8220d4c1468b8553f997950644e4",
            "0e0a0e6b1b75463ab338222a3bc38a44",
            "80e9a0438a584462b39651c78df6f027",
            "9298065bdf954aa5bc0d9bc714fcdb90",
            "31b03c72ece0476c88b337f5ad0977ef",
            "9c5bb0faeeda4aa0a819f7d6b514b01b",
            "94ad75782380434297713412290ba9ca",
            "a44b74b446c34e1d86c2792049692b71",
            "dbc35ddf4ff045cd876a64010c19fd34",
            "0def2fe9f6bc4d49b40eb287c0aed100",
            "bcdf9d54c2754863b99737693bee2765",
            "103f3683c54a4836a31e4dee2d5a1f18",
            "78994fd2761747fdaf684328aa7e15ce",
            "03e105ea5f4d4a14bb21d60f9ab2a2bf",
            "eb8eeed454c34bd78fbbd602bd68534a",
            "b9f4337a55b9493a9e7902e00a2407ec",
            "d96dcddcb46e46ea86e801efb20f8d98"
          ]
        }
      },
      "source": [
        "# Uncomment for training\n",
        "#run_training()"
      ],
      "execution_count": null,
      "outputs": [
        {
          "output_type": "stream",
          "text": [
            "GPU available: True, used: True\n",
            "TPU available: False, using: 0 TPU cores\n",
            "Using native 16bit precision.\n",
            "Downloading: \"https://github.com/lukemelas/EfficientNet-PyTorch/releases/download/1.0/efficientnet-b4-6ed6700e.pth\" to /root/.cache/torch/hub/checkpoints/efficientnet-b4-6ed6700e.pth\n"
          ],
          "name": "stderr"
        },
        {
          "output_type": "display_data",
          "data": {
            "application/vnd.jupyter.widget-view+json": {
              "model_id": "069a7430cfaf48168c97beef6b64f907",
              "version_major": 2,
              "version_minor": 0
            },
            "text/plain": [
              "HBox(children=(FloatProgress(value=0.0, max=77999237.0), HTML(value='')))"
            ]
          },
          "metadata": {
            "tags": []
          }
        },
        {
          "output_type": "stream",
          "text": [
            "LOCAL_RANK: 0 - CUDA_VISIBLE_DEVICES: [0]\n"
          ],
          "name": "stderr"
        },
        {
          "output_type": "stream",
          "text": [
            "\n",
            "Loaded pretrained weights for efficientnet-b4\n"
          ],
          "name": "stdout"
        },
        {
          "output_type": "stream",
          "text": [
            "\n",
            "  | Name   | Type         | Params\n",
            "----------------------------------------\n",
            "0 | resnet | EfficientNet | 18.2 M\n",
            "----------------------------------------\n",
            "18.2 M    Trainable params\n",
            "0         Non-trainable params\n",
            "18.2 M    Total params\n",
            "72.776    Total estimated model params size (MB)\n",
            "/usr/local/lib/python3.7/dist-packages/torch/utils/data/dataloader.py:477: UserWarning: This DataLoader will create 4 worker processes in total. Our suggested max number of worker in current system is 2, which is smaller than what this DataLoader is going to create. Please be aware that excessive worker creation might get DataLoader running slow or even freeze, lower the worker number to avoid potential slowness/freeze if necessary.\n",
            "  cpuset_checked))\n"
          ],
          "name": "stderr"
        },
        {
          "output_type": "display_data",
          "data": {
            "application/vnd.jupyter.widget-view+json": {
              "model_id": "4385cc2bd80b47739078737d9a5d98e3",
              "version_major": 2,
              "version_minor": 0
            },
            "text/plain": [
              "HBox(children=(FloatProgress(value=1.0, bar_style='info', description='Validation sanity check', layout=Layout…"
            ]
          },
          "metadata": {
            "tags": []
          }
        },
        {
          "output_type": "stream",
          "text": [
            "\r"
          ],
          "name": "stdout"
        },
        {
          "output_type": "display_data",
          "data": {
            "application/vnd.jupyter.widget-view+json": {
              "model_id": "e4e6ea6904a749b5ac5df1444e56d761",
              "version_major": 2,
              "version_minor": 0
            },
            "text/plain": [
              "HBox(children=(FloatProgress(value=1.0, bar_style='info', description='Training', layout=Layout(flex='2'), max…"
            ]
          },
          "metadata": {
            "tags": []
          }
        },
        {
          "output_type": "display_data",
          "data": {
            "application/vnd.jupyter.widget-view+json": {
              "model_id": "01a86add2165464cbf58ebfaa26dd2b8",
              "version_major": 2,
              "version_minor": 0
            },
            "text/plain": [
              "HBox(children=(FloatProgress(value=1.0, bar_style='info', description='Validating', layout=Layout(flex='2'), m…"
            ]
          },
          "metadata": {
            "tags": []
          }
        },
        {
          "output_type": "display_data",
          "data": {
            "application/vnd.jupyter.widget-view+json": {
              "model_id": "aa41c19a93a14bfe8dc0186201c803cd",
              "version_major": 2,
              "version_minor": 0
            },
            "text/plain": [
              "HBox(children=(FloatProgress(value=1.0, bar_style='info', description='Validating', layout=Layout(flex='2'), m…"
            ]
          },
          "metadata": {
            "tags": []
          }
        },
        {
          "output_type": "display_data",
          "data": {
            "application/vnd.jupyter.widget-view+json": {
              "model_id": "22a96ead74f5404593a81ec673ad4a04",
              "version_major": 2,
              "version_minor": 0
            },
            "text/plain": [
              "HBox(children=(FloatProgress(value=1.0, bar_style='info', description='Validating', layout=Layout(flex='2'), m…"
            ]
          },
          "metadata": {
            "tags": []
          }
        },
        {
          "output_type": "display_data",
          "data": {
            "application/vnd.jupyter.widget-view+json": {
              "model_id": "adb797119c7940f793b7a473abd8cc03",
              "version_major": 2,
              "version_minor": 0
            },
            "text/plain": [
              "HBox(children=(FloatProgress(value=1.0, bar_style='info', description='Validating', layout=Layout(flex='2'), m…"
            ]
          },
          "metadata": {
            "tags": []
          }
        },
        {
          "output_type": "display_data",
          "data": {
            "application/vnd.jupyter.widget-view+json": {
              "model_id": "fc8eb06a9ee246ebb0e5673176a36579",
              "version_major": 2,
              "version_minor": 0
            },
            "text/plain": [
              "HBox(children=(FloatProgress(value=1.0, bar_style='info', description='Validating', layout=Layout(flex='2'), m…"
            ]
          },
          "metadata": {
            "tags": []
          }
        },
        {
          "output_type": "display_data",
          "data": {
            "application/vnd.jupyter.widget-view+json": {
              "model_id": "ff412e251d974dcfac632cc3f4798f85",
              "version_major": 2,
              "version_minor": 0
            },
            "text/plain": [
              "HBox(children=(FloatProgress(value=1.0, bar_style='info', description='Validating', layout=Layout(flex='2'), m…"
            ]
          },
          "metadata": {
            "tags": []
          }
        },
        {
          "output_type": "display_data",
          "data": {
            "application/vnd.jupyter.widget-view+json": {
              "model_id": "19648e70dca140ffaa57b0847e2516e2",
              "version_major": 2,
              "version_minor": 0
            },
            "text/plain": [
              "HBox(children=(FloatProgress(value=1.0, bar_style='info', description='Validating', layout=Layout(flex='2'), m…"
            ]
          },
          "metadata": {
            "tags": []
          }
        },
        {
          "output_type": "display_data",
          "data": {
            "application/vnd.jupyter.widget-view+json": {
              "model_id": "f95f08a2ed134748a895e8bbfb68c43b",
              "version_major": 2,
              "version_minor": 0
            },
            "text/plain": [
              "HBox(children=(FloatProgress(value=1.0, bar_style='info', description='Validating', layout=Layout(flex='2'), m…"
            ]
          },
          "metadata": {
            "tags": []
          }
        },
        {
          "output_type": "display_data",
          "data": {
            "application/vnd.jupyter.widget-view+json": {
              "model_id": "ac68b3f1e15b49c89665ac9039cffa7b",
              "version_major": 2,
              "version_minor": 0
            },
            "text/plain": [
              "HBox(children=(FloatProgress(value=1.0, bar_style='info', description='Validating', layout=Layout(flex='2'), m…"
            ]
          },
          "metadata": {
            "tags": []
          }
        },
        {
          "output_type": "display_data",
          "data": {
            "application/vnd.jupyter.widget-view+json": {
              "model_id": "604fa08abbc44128b39be512f4d943fe",
              "version_major": 2,
              "version_minor": 0
            },
            "text/plain": [
              "HBox(children=(FloatProgress(value=1.0, bar_style='info', description='Validating', layout=Layout(flex='2'), m…"
            ]
          },
          "metadata": {
            "tags": []
          }
        },
        {
          "output_type": "display_data",
          "data": {
            "application/vnd.jupyter.widget-view+json": {
              "model_id": "0cf276df52e7456e82cda59b07ca807b",
              "version_major": 2,
              "version_minor": 0
            },
            "text/plain": [
              "HBox(children=(FloatProgress(value=1.0, bar_style='info', description='Validating', layout=Layout(flex='2'), m…"
            ]
          },
          "metadata": {
            "tags": []
          }
        },
        {
          "output_type": "display_data",
          "data": {
            "application/vnd.jupyter.widget-view+json": {
              "model_id": "bff1c66c986a4799bb6110a42c69af80",
              "version_major": 2,
              "version_minor": 0
            },
            "text/plain": [
              "HBox(children=(FloatProgress(value=1.0, bar_style='info', description='Validating', layout=Layout(flex='2'), m…"
            ]
          },
          "metadata": {
            "tags": []
          }
        },
        {
          "output_type": "display_data",
          "data": {
            "application/vnd.jupyter.widget-view+json": {
              "model_id": "98bdd4ca0dc74fffa49db4ffa37bf980",
              "version_major": 2,
              "version_minor": 0
            },
            "text/plain": [
              "HBox(children=(FloatProgress(value=1.0, bar_style='info', description='Validating', layout=Layout(flex='2'), m…"
            ]
          },
          "metadata": {
            "tags": []
          }
        },
        {
          "output_type": "display_data",
          "data": {
            "application/vnd.jupyter.widget-view+json": {
              "model_id": "a6c16d861bcf48c687bda6b0de8e7345",
              "version_major": 2,
              "version_minor": 0
            },
            "text/plain": [
              "HBox(children=(FloatProgress(value=1.0, bar_style='info', description='Validating', layout=Layout(flex='2'), m…"
            ]
          },
          "metadata": {
            "tags": []
          }
        },
        {
          "output_type": "display_data",
          "data": {
            "application/vnd.jupyter.widget-view+json": {
              "model_id": "4afb33066d144c9ead7c325561654148",
              "version_major": 2,
              "version_minor": 0
            },
            "text/plain": [
              "HBox(children=(FloatProgress(value=1.0, bar_style='info', description='Validating', layout=Layout(flex='2'), m…"
            ]
          },
          "metadata": {
            "tags": []
          }
        },
        {
          "output_type": "display_data",
          "data": {
            "application/vnd.jupyter.widget-view+json": {
              "model_id": "914b8220d4c1468b8553f997950644e4",
              "version_major": 2,
              "version_minor": 0
            },
            "text/plain": [
              "HBox(children=(FloatProgress(value=1.0, bar_style='info', description='Validating', layout=Layout(flex='2'), m…"
            ]
          },
          "metadata": {
            "tags": []
          }
        },
        {
          "output_type": "display_data",
          "data": {
            "application/vnd.jupyter.widget-view+json": {
              "model_id": "0e0a0e6b1b75463ab338222a3bc38a44",
              "version_major": 2,
              "version_minor": 0
            },
            "text/plain": [
              "HBox(children=(FloatProgress(value=1.0, bar_style='info', description='Validating', layout=Layout(flex='2'), m…"
            ]
          },
          "metadata": {
            "tags": []
          }
        },
        {
          "output_type": "display_data",
          "data": {
            "application/vnd.jupyter.widget-view+json": {
              "model_id": "80e9a0438a584462b39651c78df6f027",
              "version_major": 2,
              "version_minor": 0
            },
            "text/plain": [
              "HBox(children=(FloatProgress(value=1.0, bar_style='info', description='Validating', layout=Layout(flex='2'), m…"
            ]
          },
          "metadata": {
            "tags": []
          }
        },
        {
          "output_type": "display_data",
          "data": {
            "application/vnd.jupyter.widget-view+json": {
              "model_id": "9298065bdf954aa5bc0d9bc714fcdb90",
              "version_major": 2,
              "version_minor": 0
            },
            "text/plain": [
              "HBox(children=(FloatProgress(value=1.0, bar_style='info', description='Validating', layout=Layout(flex='2'), m…"
            ]
          },
          "metadata": {
            "tags": []
          }
        },
        {
          "output_type": "display_data",
          "data": {
            "application/vnd.jupyter.widget-view+json": {
              "model_id": "31b03c72ece0476c88b337f5ad0977ef",
              "version_major": 2,
              "version_minor": 0
            },
            "text/plain": [
              "HBox(children=(FloatProgress(value=1.0, bar_style='info', description='Validating', layout=Layout(flex='2'), m…"
            ]
          },
          "metadata": {
            "tags": []
          }
        },
        {
          "output_type": "display_data",
          "data": {
            "application/vnd.jupyter.widget-view+json": {
              "model_id": "9c5bb0faeeda4aa0a819f7d6b514b01b",
              "version_major": 2,
              "version_minor": 0
            },
            "text/plain": [
              "HBox(children=(FloatProgress(value=1.0, bar_style='info', description='Validating', layout=Layout(flex='2'), m…"
            ]
          },
          "metadata": {
            "tags": []
          }
        },
        {
          "output_type": "display_data",
          "data": {
            "application/vnd.jupyter.widget-view+json": {
              "model_id": "94ad75782380434297713412290ba9ca",
              "version_major": 2,
              "version_minor": 0
            },
            "text/plain": [
              "HBox(children=(FloatProgress(value=1.0, bar_style='info', description='Validating', layout=Layout(flex='2'), m…"
            ]
          },
          "metadata": {
            "tags": []
          }
        },
        {
          "output_type": "display_data",
          "data": {
            "application/vnd.jupyter.widget-view+json": {
              "model_id": "a44b74b446c34e1d86c2792049692b71",
              "version_major": 2,
              "version_minor": 0
            },
            "text/plain": [
              "HBox(children=(FloatProgress(value=1.0, bar_style='info', description='Validating', layout=Layout(flex='2'), m…"
            ]
          },
          "metadata": {
            "tags": []
          }
        },
        {
          "output_type": "display_data",
          "data": {
            "application/vnd.jupyter.widget-view+json": {
              "model_id": "dbc35ddf4ff045cd876a64010c19fd34",
              "version_major": 2,
              "version_minor": 0
            },
            "text/plain": [
              "HBox(children=(FloatProgress(value=1.0, bar_style='info', description='Validating', layout=Layout(flex='2'), m…"
            ]
          },
          "metadata": {
            "tags": []
          }
        },
        {
          "output_type": "display_data",
          "data": {
            "application/vnd.jupyter.widget-view+json": {
              "model_id": "0def2fe9f6bc4d49b40eb287c0aed100",
              "version_major": 2,
              "version_minor": 0
            },
            "text/plain": [
              "HBox(children=(FloatProgress(value=1.0, bar_style='info', description='Validating', layout=Layout(flex='2'), m…"
            ]
          },
          "metadata": {
            "tags": []
          }
        },
        {
          "output_type": "display_data",
          "data": {
            "application/vnd.jupyter.widget-view+json": {
              "model_id": "bcdf9d54c2754863b99737693bee2765",
              "version_major": 2,
              "version_minor": 0
            },
            "text/plain": [
              "HBox(children=(FloatProgress(value=1.0, bar_style='info', description='Validating', layout=Layout(flex='2'), m…"
            ]
          },
          "metadata": {
            "tags": []
          }
        },
        {
          "output_type": "display_data",
          "data": {
            "application/vnd.jupyter.widget-view+json": {
              "model_id": "103f3683c54a4836a31e4dee2d5a1f18",
              "version_major": 2,
              "version_minor": 0
            },
            "text/plain": [
              "HBox(children=(FloatProgress(value=1.0, bar_style='info', description='Validating', layout=Layout(flex='2'), m…"
            ]
          },
          "metadata": {
            "tags": []
          }
        },
        {
          "output_type": "display_data",
          "data": {
            "application/vnd.jupyter.widget-view+json": {
              "model_id": "78994fd2761747fdaf684328aa7e15ce",
              "version_major": 2,
              "version_minor": 0
            },
            "text/plain": [
              "HBox(children=(FloatProgress(value=1.0, bar_style='info', description='Validating', layout=Layout(flex='2'), m…"
            ]
          },
          "metadata": {
            "tags": []
          }
        },
        {
          "output_type": "display_data",
          "data": {
            "application/vnd.jupyter.widget-view+json": {
              "model_id": "03e105ea5f4d4a14bb21d60f9ab2a2bf",
              "version_major": 2,
              "version_minor": 0
            },
            "text/plain": [
              "HBox(children=(FloatProgress(value=1.0, bar_style='info', description='Validating', layout=Layout(flex='2'), m…"
            ]
          },
          "metadata": {
            "tags": []
          }
        },
        {
          "output_type": "display_data",
          "data": {
            "application/vnd.jupyter.widget-view+json": {
              "model_id": "eb8eeed454c34bd78fbbd602bd68534a",
              "version_major": 2,
              "version_minor": 0
            },
            "text/plain": [
              "HBox(children=(FloatProgress(value=1.0, bar_style='info', description='Validating', layout=Layout(flex='2'), m…"
            ]
          },
          "metadata": {
            "tags": []
          }
        },
        {
          "output_type": "display_data",
          "data": {
            "application/vnd.jupyter.widget-view+json": {
              "model_id": "b9f4337a55b9493a9e7902e00a2407ec",
              "version_major": 2,
              "version_minor": 0
            },
            "text/plain": [
              "HBox(children=(FloatProgress(value=1.0, bar_style='info', description='Validating', layout=Layout(flex='2'), m…"
            ]
          },
          "metadata": {
            "tags": []
          }
        },
        {
          "output_type": "display_data",
          "data": {
            "application/vnd.jupyter.widget-view+json": {
              "model_id": "d96dcddcb46e46ea86e801efb20f8d98",
              "version_major": 2,
              "version_minor": 0
            },
            "text/plain": [
              "HBox(children=(FloatProgress(value=1.0, bar_style='info', description='Validating', layout=Layout(flex='2'), m…"
            ]
          },
          "metadata": {
            "tags": []
          }
        }
      ]
    },
    {
      "cell_type": "markdown",
      "metadata": {
        "id": "XcyMXQJonkTV"
      },
      "source": [
        "### Inference"
      ]
    },
    {
      "cell_type": "markdown",
      "metadata": {
        "id": "ahWisaJDnoIk"
      },
      "source": [
        "For inference i am using TTA 4. I am using 4 different arrangemets of augmentations. One without one only with vertical flip one only with horizontal flip and one with both augmentations. Then the model will predict on those four sets and the mean output will be calculated."
      ]
    },
    {
      "cell_type": "code",
      "metadata": {
        "id": "KRKzHuaLLHrC"
      },
      "source": [
        "def run_inference():\n",
        "  tr0 = A.Compose([\n",
        "          A.CenterCrop(230,230,always_apply=True)\n",
        "  ])\n",
        "\n",
        "  tr1 = A.Compose([\n",
        "      A.CenterCrop(230,230,always_apply=True),\n",
        "      A.VerticalFlip(p = 1)\n",
        "  ])\n",
        "\n",
        "  tr2 = A.Compose([\n",
        "      A.CenterCrop(230,230,always_apply=True),\n",
        "      A.HorizontalFlip(p = 1)\n",
        "  ])\n",
        "\n",
        "  tr3 = A.Compose([\n",
        "      A.CenterCrop(230,230,always_apply=True),\n",
        "      A.HorizontalFlip(p = 1),\n",
        "      A.VerticalFlip(p = 1)\n",
        "  ])\n",
        "\n",
        "  tr_list = [tr0,tr1,tr2,tr3]\n",
        "  concat = torch.tensor([])\n",
        "\n",
        "  for tr in tr_list:\n",
        "      # INSERT VERSION NUMBER \n",
        "      path = 'lightning_logs/version_0/checkpoints/latest.ckpt' # Use path of latest model\n",
        "      trainer = Trainer(gpus = 1, precision=16, amp_level='O1',deterministic=True)\n",
        "\n",
        "      m = Classifier({'lr':3e-4,'batch_size':64,'train_tr':None,'val_tr':tr})\n",
        "\n",
        "      ckpt = torch.load(path)\n",
        "      m.load_state_dict(ckpt['state_dict'])\n",
        "      \n",
        "      out = trainer.predict(m)\n",
        "      output = torch.tensor([])\n",
        "\n",
        "      for i in range(len(out)):\n",
        "          output = torch.cat((output,torch.tensor(out[i]).argmax(1)))\n",
        "      concat = torch.cat((concat,output.unsqueeze(0)),0)\n",
        "      output = torch.round(concat.mean(0))\n",
        "      writeSub(output)\n",
        "\n",
        "def writeSub(p):\n",
        "    test_df = pd.read_csv('data/sample_submission.csv')\n",
        "    output_list = p.int().tolist()\n",
        "    test_df['label'] = output_list\n",
        "    test_df.to_csv('submission.csv',index = False)"
      ],
      "execution_count": null,
      "outputs": []
    },
    {
      "cell_type": "code",
      "metadata": {
        "id": "PNrycJbodTKo"
      },
      "source": [
        "# Uncomment for submission\n",
        "#run_inference"
      ],
      "execution_count": null,
      "outputs": []
    },
    {
      "cell_type": "markdown",
      "metadata": {
        "id": "-w5bkn2yodWc"
      },
      "source": [
        "That's the end. I hope that you have learned something new. Feel free to ask questions in the comment section.\n",
        "\n",
        "Thanks for reading!"
      ]
    }
  ]
}
{
 "cells": [
  {
   "cell_type": "code",
   "execution_count": 1,
   "metadata": {
    "collapsed": true
   },
   "outputs": [],
   "source": [
    "import numpy\n",
    "import PIL\n",
    "from PIL import Image"
   ]
  },
  {
   "cell_type": "code",
   "execution_count": 2,
   "metadata": {},
   "outputs": [
    {
     "name": "stdout",
     "output_type": "stream",
     "text": [
      "curses is not supported on this machine (please install/reinstall curses for an optimal experience)\n"
     ]
    }
   ],
   "source": [
    "import pandas as pd\n",
    "import tflearn\n",
    "import tensorflow as tf\n",
    "# Remove regular python warnings\n",
    "import warnings\n",
    "warnings.filterwarnings('ignore')\n",
    "# Remove TensorFlow warnings\n",
    "tf.logging.set_verbosity(tf.logging.ERROR)\n",
    "import matplotlib.pyplot as plt\n",
    "%matplotlib inline"
   ]
  },
  {
   "cell_type": "code",
   "execution_count": 3,
   "metadata": {
    "collapsed": true
   },
   "outputs": [],
   "source": [
    "train = pd.read_csv('train.csv')\n",
    "test = pd.read_csv('test.csv')"
   ]
  },
  {
   "cell_type": "code",
   "execution_count": 4,
   "metadata": {},
   "outputs": [
    {
     "data": {
      "text/plain": [
       "(19906, 2)"
      ]
     },
     "execution_count": 4,
     "metadata": {},
     "output_type": "execute_result"
    }
   ],
   "source": [
    "train.shape"
   ]
  },
  {
   "cell_type": "code",
   "execution_count": 7,
   "metadata": {},
   "outputs": [
    {
     "data": {
      "text/plain": [
       "'377.jpg'"
      ]
     },
     "execution_count": 7,
     "metadata": {},
     "output_type": "execute_result"
    }
   ],
   "source": [
    "train['ID'][0]"
   ]
  },
  {
   "cell_type": "code",
   "execution_count": 9,
   "metadata": {},
   "outputs": [
    {
     "data": {
      "image/png": "[encoded data removed]",
      "text/plain": [
       "<PIL.JpegImagePlugin.JpegImageFile image mode=RGB size=70x85 at 0x1C022A4A7F0>"
      ]
     },
     "execution_count": 9,
     "metadata": {},
     "output_type": "execute_result"
    }
   ],
   "source": [
    "img = Image.open('Train/'+train['ID'][0])\n",
    "img"
   ]
  },
  {
   "cell_type": "code",
   "execution_count": 19,
   "metadata": {
    "collapsed": true
   },
   "outputs": [],
   "source": [
    "path2 = 'Train2'\n",
    "for i in range(train.shape[0]):\n",
    "    img = Image.open('Train/'+train['ID'][i]).convert('L')\n",
    "    img = img.resize((28, 28), Image.ANTIALIAS)\n",
    "    img.save(path2+'/'+train['ID'][i])"
   ]
  },
  {
   "cell_type": "code",
   "execution_count": 21,
   "metadata": {},
   "outputs": [
    {
     "data": {
      "image/png": "[encoded data removed]",
      "text/plain": [
       "<PIL.JpegImagePlugin.JpegImageFile image mode=L size=28x28 at 0x1C022A64630>"
      ]
     },
     "execution_count": 21,
     "metadata": {},
     "output_type": "execute_result"
    }
   ],
   "source": [
    "img = Image.open('Train2/'+train['ID'][0])\n",
    "img"
   ]
  },
  {
   "cell_type": "code",
   "execution_count": 22,
   "metadata": {},
   "outputs": [],
   "source": [
    "ar = numpy.array(img)"
   ]
  },
  {
   "cell_type": "code",
   "execution_count": 23,
   "metadata": {
    "collapsed": true
   },
   "outputs": [],
   "source": [
    "path2 = 'Test2'\n",
    "for i in range(test.shape[0]):\n",
    "    img = Image.open('Test/'+test['ID'][i]).convert('L')\n",
    "    img = img.resize((28, 28), Image.ANTIALIAS)\n",
    "    img.save(path2+'/'+test['ID'][i])"
   ]
  },
  {
   "cell_type": "code",
   "execution_count": 25,
   "metadata": {},
   "outputs": [
    {
     "data": {
      "text/plain": [
       "(784,)"
      ]
     },
     "execution_count": 25,
     "metadata": {},
     "output_type": "execute_result"
    }
   ],
   "source": [
    "ar = ar.flatten()\n",
    "ar.shape"
   ]
  },
  {
   "cell_type": "code",
   "execution_count": 26,
   "metadata": {},
   "outputs": [
    {
     "data": {
      "text/plain": [
       "array([ 42,  46,  36,  79, 141, 158, 162, 162, 164, 156, 144, 136, 134,\n",
       "       134, 133, 133, 127, 122, 112, 101,  93,  84,  68,  53,  50,  35,\n",
       "        12,   5,  54,  59,  56, 103, 158, 169, 175, 180, 158, 162, 165,\n",
       "       162, 155, 147, 142, 141, 145, 145, 140, 132, 125, 120, 111, 102,\n",
       "        77,  57,  29,  22,  57,  65,  77, 133, 173, 162, 156, 156, 168,\n",
       "       167, 166, 165, 163, 157, 150, 145, 140, 144, 144, 137, 130, 124,\n",
       "       116, 109,  98,  72,  39,  31,  52,  59,  83, 151, 190, 178, 177,\n",
       "       180, 182, 164, 146, 144, 155, 163, 159, 151, 159, 160, 155, 147,\n",
       "       139, 130, 118, 106, 102,  74,  39,  30,  64,  62,  81, 140, 167,\n",
       "       157, 164, 166, 152, 141, 132, 136, 151, 163, 163, 158, 169, 159,\n",
       "       144, 133, 130, 128, 117, 105,  96,  74,  42,  30,  55,  61,  88,\n",
       "       137, 140, 113, 106,  94,  94, 104, 121, 137, 147, 151, 149, 147,\n",
       "       124, 111,  93,  84,  89,  97,  93,  83,  85,  75,  48,  29,  32,\n",
       "        57, 104, 153, 144, 115, 111,  94,  81,  89, 105, 123, 137, 138,\n",
       "       128, 118,  84,  81,  78,  80,  89,  94,  87,  76,  79,  82,  59,\n",
       "        31,  48,  74, 116, 150, 129, 108, 122, 114, 114,  99,  92, 105,\n",
       "       128, 135, 117,  95,  71,  83,  98, 110, 117, 113,  96,  79,  82,\n",
       "        93,  73,  38,  43, 104, 131, 116,  99,  77,  57,  57,  66,  69,\n",
       "        85, 106, 129, 144, 124,  85,  77,  83,  84,  74,  64,  64,  71,\n",
       "        77,  82,  82,  69,  48,  53, 107, 131, 122, 115,  99,  78,  74,\n",
       "        80,  86, 100, 126, 150, 148, 117,  87,  90,  97,  97,  85,  72,\n",
       "        67,  68,  69, 100,  97,  80,  55,  99, 141, 156, 149, 152, 144,\n",
       "       126, 122, 124, 123, 113, 126, 157, 153, 121, 106, 106, 119, 130,\n",
       "       130, 126, 124, 125, 124, 121, 114,  95,  70, 121, 155, 162, 153,\n",
       "       158, 154, 141, 142, 122, 168, 185, 181, 182, 155, 122, 124, 102,\n",
       "       119, 137, 143, 141, 137, 131, 126, 123, 116,  99,  80, 120, 156,\n",
       "       165, 158, 160, 151, 138, 140, 145, 167, 150, 133, 152, 146, 105,\n",
       "        82,  81, 102, 126, 140, 146, 145, 140, 134, 113, 106,  94,  82,\n",
       "       121, 160, 176, 171, 171, 155, 136, 137, 139, 108,  48,  23,  61,\n",
       "        84,  56,  24,  45,  65,  90, 108, 121, 130, 132, 131, 111, 103,\n",
       "        91,  82, 115, 146, 153, 145, 143, 126, 107, 109, 117, 110,  99,\n",
       "        93,  89,  83,  77,  77,  74,  84,  95, 101, 106, 114, 119, 120,\n",
       "       109,  97,  83,  75, 117, 136, 128, 111, 109,  96,  81,  86,  92,\n",
       "        60,  54,  78,  87,  77,  68,  64,  55,  61,  65,  67,  74,  88,\n",
       "       101, 106,  99,  85,  69,  60, 111, 110, 109, 102,  87,  70,  57,\n",
       "        53,  66,  68,  78,  98, 114, 111,  90,  69,  68,  56,  47,  43,\n",
       "        39,  44,  69,  97,  80,  63,  53,  50,  98, 107, 112, 100,  72,\n",
       "        47,  39,  44,  60,  84, 116, 138, 143, 137, 129, 125,  91,  72,\n",
       "        52,  38,  30,  34,  57,  83,  68,  56,  53,  51,  94, 102, 108,\n",
       "        98,  70,  45,  39,  45,  63,  80, 100, 108, 107, 108, 117, 127,\n",
       "        87,  70,  52,  42,  37,  38,  53,  70,  53,  45,  49,  51,  97,\n",
       "        92,  90,  89,  79,  65,  60,  63,  39,  30,  19,  12,   9,   6,\n",
       "         0,   0,  15,  16,  25,  41,  54,  60,  66,  72,  46,  36,  40,\n",
       "        47,  92,  83,  78,  80,  77,  72,  79,  92,  71,  70,  78,  97,\n",
       "       117, 121, 105,  88,  65,  68,  75,  81,  76,  59,  39,  26,  43,\n",
       "        29,  33,  47,  85,  82,  81,  78,  66,  63,  85, 115, 118, 122,\n",
       "       130, 135, 133, 122, 105,  93,  96,  99, 102, 102,  94,  77,  59,\n",
       "        46,  37,  24,  34,  56,  81,  74,  71,  67,  56,  53,  78, 111,\n",
       "       116, 117, 112,  99,  85,  79,  85,  93, 112, 108,  98,  82,  63,\n",
       "        44,  28,  18,  24,  19,  42,  75,  77,  59,  47,  48,  47,  48,\n",
       "        65,  89, 125, 120, 107,  89,  75,  75,  89, 102, 106, 101,  88,\n",
       "        67,  45,  29,  19,  13,  13,  17,  51,  91, 105,  56,  41,  39,\n",
       "        41,  48,  50,  64,  91, 108, 113, 105,  96,  87,  91, 108,  93,\n",
       "        83,  72,  52,  26,  16,  12,   1,   4,  17,  71, 119, 124,  74,\n",
       "        56,  48,  44,  47,  45,  57,  76,  95, 103, 100,  93,  80,  76,\n",
       "        86,  78,  69,  60,  43,  22,  17,  16,   7,   9,  22,  76, 124,\n",
       "       138,  88,  67,  55,  46,  46,  41,  49,  56,  71,  76,  73,  69,\n",
       "        57,  49,  55,  55,  47,  41,  29,  13,  14,  19,  13,  17,  30,\n",
       "        84, 132, 136,  88,  67,  54,  45,  46,  40,  46,  51,  56,  49,\n",
       "        41,  40,  34,  31,  38,  34,  27,  24,  15,   4,   9,  18,  14,\n",
       "        22,  35,  89, 137], dtype=uint8)"
      ]
     },
     "execution_count": 26,
     "metadata": {},
     "output_type": "execute_result"
    }
   ],
   "source": [
    "ar"
   ]
  },
  {
   "cell_type": "code",
   "execution_count": 27,
   "metadata": {
    "collapsed": true
   },
   "outputs": [],
   "source": [
    "imTrain = pd.DataFrame({\n",
    "    \"Class\": train['Class']\n",
    "})"
   ]
  },
  {
   "cell_type": "code",
   "execution_count": 37,
   "metadata": {},
   "outputs": [],
   "source": [
    "#print(train.shape[0])\n",
    "imgAr = []\n",
    "for i in range(train.shape[0]):\n",
    "    imgAr.append(numpy.array(Image.open('Train2/'+train['ID'][i])).flatten())  "
   ]
  },
  {
   "cell_type": "code",
   "execution_count": 39,
   "metadata": {},
   "outputs": [],
   "source": [
    "imgAr = numpy.array(imgAr)"
   ]
  },
  {
   "cell_type": "code",
   "execution_count": 40,
   "metadata": {
    "collapsed": true
   },
   "outputs": [],
   "source": [
    "for i in range(784):\n",
    "    nameId = 'pixel'+str(i)\n",
    "    imTrain[nameId] = imgAr[:,i]"
   ]
  },
  {
   "cell_type": "code",
   "execution_count": 41,
   "metadata": {},
   "outputs": [
    {
     "data": {
      "text/html": [
       "<div>\n",
       "<style>\n",
       "    .dataframe thead tr:only-child th {\n",
       "        text-align: right;\n",
       "    }\n",
       "\n",
       "    .dataframe thead th {\n",
       "        text-align: left;\n",
       "    }\n",
       "\n",
       "    .dataframe tbody tr th {\n",
       "        vertical-align: top;\n",
       "    }\n",
       "</style>\n",
       "<table border=\"1\" class=\"dataframe\">\n",
       "  <thead>\n",
       "    <tr style=\"text-align: right;\">\n",
       "      <th></th>\n",
       "      <th>Class</th>\n",
       "      <th>pixel0</th>\n",
       "      <th>pixel1</th>\n",
       "      <th>pixel2</th>\n",
       "      <th>pixel3</th>\n",
       "      <th>pixel4</th>\n",
       "      <th>pixel5</th>\n",
       "      <th>pixel6</th>\n",
       "      <th>pixel7</th>\n",
       "      <th>pixel8</th>\n",
       "      <th>...</th>\n",
       "      <th>pixel774</th>\n",
       "      <th>pixel775</th>\n",
       "      <th>pixel776</th>\n",
       "      <th>pixel777</th>\n",
       "      <th>pixel778</th>\n",
       "      <th>pixel779</th>\n",
       "      <th>pixel780</th>\n",
       "      <th>pixel781</th>\n",
       "      <th>pixel782</th>\n",
       "      <th>pixel783</th>\n",
       "    </tr>\n",
       "  </thead>\n",
       "  <tbody>\n",
       "    <tr>\n",
       "      <th>0</th>\n",
       "      <td>MIDDLE</td>\n",
       "      <td>42</td>\n",
       "      <td>46</td>\n",
       "      <td>36</td>\n",
       "      <td>79</td>\n",
       "      <td>141</td>\n",
       "      <td>158</td>\n",
       "      <td>162</td>\n",
       "      <td>162</td>\n",
       "      <td>164</td>\n",
       "      <td>...</td>\n",
       "      <td>24</td>\n",
       "      <td>15</td>\n",
       "      <td>4</td>\n",
       "      <td>9</td>\n",
       "      <td>18</td>\n",
       "      <td>14</td>\n",
       "      <td>22</td>\n",
       "      <td>35</td>\n",
       "      <td>89</td>\n",
       "      <td>137</td>\n",
       "    </tr>\n",
       "    <tr>\n",
       "      <th>1</th>\n",
       "      <td>YOUNG</td>\n",
       "      <td>27</td>\n",
       "      <td>39</td>\n",
       "      <td>42</td>\n",
       "      <td>31</td>\n",
       "      <td>25</td>\n",
       "      <td>29</td>\n",
       "      <td>29</td>\n",
       "      <td>23</td>\n",
       "      <td>43</td>\n",
       "      <td>...</td>\n",
       "      <td>66</td>\n",
       "      <td>66</td>\n",
       "      <td>73</td>\n",
       "      <td>72</td>\n",
       "      <td>67</td>\n",
       "      <td>71</td>\n",
       "      <td>73</td>\n",
       "      <td>65</td>\n",
       "      <td>54</td>\n",
       "      <td>47</td>\n",
       "    </tr>\n",
       "  </tbody>\n",
       "</table>\n",
       "<p>2 rows × 785 columns</p>\n",
       "</div>"
      ],
      "text/plain": [
       "    Class  pixel0  pixel1  pixel2  pixel3  pixel4  pixel5  pixel6  pixel7  \\\n",
       "0  MIDDLE      42      46      36      79     141     158     162     162   \n",
       "1   YOUNG      27      39      42      31      25      29      29      23   \n",
       "\n",
       "   pixel8    ...     pixel774  pixel775  pixel776  pixel777  pixel778  \\\n",
       "0     164    ...           24        15         4         9        18   \n",
       "1      43    ...           66        66        73        72        67   \n",
       "\n",
       "   pixel779  pixel780  pixel781  pixel782  pixel783  \n",
       "0        14        22        35        89       137  \n",
       "1        71        73        65        54        47  \n",
       "\n",
       "[2 rows x 785 columns]"
      ]
     },
     "execution_count": 41,
     "metadata": {},
     "output_type": "execute_result"
    }
   ],
   "source": [
    "imTrain[:2]"
   ]
  },
  {
   "cell_type": "code",
   "execution_count": 42,
   "metadata": {
    "collapsed": true
   },
   "outputs": [],
   "source": [
    "imTrain['Class'] = imTrain['Class'].map({'YOUNG': 0, 'MIDDLE': 1, 'OLD': 2})"
   ]
  },
  {
   "cell_type": "code",
   "execution_count": 43,
   "metadata": {},
   "outputs": [
    {
     "data": {
      "text/html": [
       "<div>\n",
       "<style>\n",
       "    .dataframe thead tr:only-child th {\n",
       "        text-align: right;\n",
       "    }\n",
       "\n",
       "    .dataframe thead th {\n",
       "        text-align: left;\n",
       "    }\n",
       "\n",
       "    .dataframe tbody tr th {\n",
       "        vertical-align: top;\n",
       "    }\n",
       "</style>\n",
       "<table border=\"1\" class=\"dataframe\">\n",
       "  <thead>\n",
       "    <tr style=\"text-align: right;\">\n",
       "      <th></th>\n",
       "      <th>Class</th>\n",
       "      <th>pixel0</th>\n",
       "      <th>pixel1</th>\n",
       "      <th>pixel2</th>\n",
       "      <th>pixel3</th>\n",
       "      <th>pixel4</th>\n",
       "      <th>pixel5</th>\n",
       "      <th>pixel6</th>\n",
       "      <th>pixel7</th>\n",
       "      <th>pixel8</th>\n",
       "      <th>...</th>\n",
       "      <th>pixel774</th>\n",
       "      <th>pixel775</th>\n",
       "      <th>pixel776</th>\n",
       "      <th>pixel777</th>\n",
       "      <th>pixel778</th>\n",
       "      <th>pixel779</th>\n",
       "      <th>pixel780</th>\n",
       "      <th>pixel781</th>\n",
       "      <th>pixel782</th>\n",
       "      <th>pixel783</th>\n",
       "    </tr>\n",
       "  </thead>\n",
       "  <tbody>\n",
       "    <tr>\n",
       "      <th>0</th>\n",
       "      <td>1</td>\n",
       "      <td>42</td>\n",
       "      <td>46</td>\n",
       "      <td>36</td>\n",
       "      <td>79</td>\n",
       "      <td>141</td>\n",
       "      <td>158</td>\n",
       "      <td>162</td>\n",
       "      <td>162</td>\n",
       "      <td>164</td>\n",
       "      <td>...</td>\n",
       "      <td>24</td>\n",
       "      <td>15</td>\n",
       "      <td>4</td>\n",
       "      <td>9</td>\n",
       "      <td>18</td>\n",
       "      <td>14</td>\n",
       "      <td>22</td>\n",
       "      <td>35</td>\n",
       "      <td>89</td>\n",
       "      <td>137</td>\n",
       "    </tr>\n",
       "    <tr>\n",
       "      <th>1</th>\n",
       "      <td>0</td>\n",
       "      <td>27</td>\n",
       "      <td>39</td>\n",
       "      <td>42</td>\n",
       "      <td>31</td>\n",
       "      <td>25</td>\n",
       "      <td>29</td>\n",
       "      <td>29</td>\n",
       "      <td>23</td>\n",
       "      <td>43</td>\n",
       "      <td>...</td>\n",
       "      <td>66</td>\n",
       "      <td>66</td>\n",
       "      <td>73</td>\n",
       "      <td>72</td>\n",
       "      <td>67</td>\n",
       "      <td>71</td>\n",
       "      <td>73</td>\n",
       "      <td>65</td>\n",
       "      <td>54</td>\n",
       "      <td>47</td>\n",
       "    </tr>\n",
       "    <tr>\n",
       "      <th>2</th>\n",
       "      <td>1</td>\n",
       "      <td>38</td>\n",
       "      <td>48</td>\n",
       "      <td>37</td>\n",
       "      <td>101</td>\n",
       "      <td>209</td>\n",
       "      <td>193</td>\n",
       "      <td>199</td>\n",
       "      <td>186</td>\n",
       "      <td>235</td>\n",
       "      <td>...</td>\n",
       "      <td>68</td>\n",
       "      <td>64</td>\n",
       "      <td>63</td>\n",
       "      <td>63</td>\n",
       "      <td>62</td>\n",
       "      <td>61</td>\n",
       "      <td>61</td>\n",
       "      <td>63</td>\n",
       "      <td>66</td>\n",
       "      <td>70</td>\n",
       "    </tr>\n",
       "    <tr>\n",
       "      <th>3</th>\n",
       "      <td>0</td>\n",
       "      <td>20</td>\n",
       "      <td>21</td>\n",
       "      <td>21</td>\n",
       "      <td>19</td>\n",
       "      <td>18</td>\n",
       "      <td>20</td>\n",
       "      <td>21</td>\n",
       "      <td>21</td>\n",
       "      <td>19</td>\n",
       "      <td>...</td>\n",
       "      <td>158</td>\n",
       "      <td>209</td>\n",
       "      <td>237</td>\n",
       "      <td>151</td>\n",
       "      <td>54</td>\n",
       "      <td>46</td>\n",
       "      <td>68</td>\n",
       "      <td>74</td>\n",
       "      <td>74</td>\n",
       "      <td>55</td>\n",
       "    </tr>\n",
       "  </tbody>\n",
       "</table>\n",
       "<p>4 rows × 785 columns</p>\n",
       "</div>"
      ],
      "text/plain": [
       "   Class  pixel0  pixel1  pixel2  pixel3  pixel4  pixel5  pixel6  pixel7  \\\n",
       "0      1      42      46      36      79     141     158     162     162   \n",
       "1      0      27      39      42      31      25      29      29      23   \n",
       "2      1      38      48      37     101     209     193     199     186   \n",
       "3      0      20      21      21      19      18      20      21      21   \n",
       "\n",
       "   pixel8    ...     pixel774  pixel775  pixel776  pixel777  pixel778  \\\n",
       "0     164    ...           24        15         4         9        18   \n",
       "1      43    ...           66        66        73        72        67   \n",
       "2     235    ...           68        64        63        63        62   \n",
       "3      19    ...          158       209       237       151        54   \n",
       "\n",
       "   pixel779  pixel780  pixel781  pixel782  pixel783  \n",
       "0        14        22        35        89       137  \n",
       "1        71        73        65        54        47  \n",
       "2        61        61        63        66        70  \n",
       "3        46        68        74        74        55  \n",
       "\n",
       "[4 rows x 785 columns]"
      ]
     },
     "execution_count": 43,
     "metadata": {},
     "output_type": "execute_result"
    }
   ],
   "source": [
    "imTrain[:4]"
   ]
  },
  {
   "cell_type": "code",
   "execution_count": 45,
   "metadata": {},
   "outputs": [],
   "source": [
    "imTest = pd.DataFrame()"
   ]
  },
  {
   "cell_type": "code",
   "execution_count": 47,
   "metadata": {},
   "outputs": [],
   "source": [
    "imgAr = []\n",
    "for i in range(test.shape[0]):\n",
    "    imgAr.append(numpy.array(Image.open('Test2/'+test['ID'][i])).flatten())"
   ]
  },
  {
   "cell_type": "code",
   "execution_count": 48,
   "metadata": {
    "collapsed": true
   },
   "outputs": [],
   "source": [
    "imgAr = numpy.array(imgAr)"
   ]
  },
  {
   "cell_type": "code",
   "execution_count": 49,
   "metadata": {
    "collapsed": true
   },
   "outputs": [],
   "source": [
    "for i in range(784):\n",
    "    nameId = 'pixel'+str(i)\n",
    "    imTest[nameId] = imgAr[:,i]"
   ]
  },
  {
   "cell_type": "code",
   "execution_count": 50,
   "metadata": {},
   "outputs": [
    {
     "name": "stdout",
     "output_type": "stream",
     "text": [
      "(19906, 785)\n",
      "(6636, 784)\n"
     ]
    }
   ],
   "source": [
    "print(imTrain.shape)\n",
    "print(imTest.shape)"
   ]
  },
  {
   "cell_type": "code",
   "execution_count": 52,
   "metadata": {},
   "outputs": [],
   "source": [
    "imageLabel = imTrain.ix[:, 0:1]\n",
    "imageTrain = imTrain.ix[:, 1:]"
   ]
  },
  {
   "cell_type": "code",
   "execution_count": 53,
   "metadata": {},
   "outputs": [
    {
     "name": "stdout",
     "output_type": "stream",
     "text": [
      "(19906, 1)\n",
      "(19906, 784)\n",
      "(6636, 784)\n"
     ]
    }
   ],
   "source": [
    "print(imageLabel.shape)\n",
    "print(imageTrain.shape)\n",
    "print(imTest.shape)"
   ]
  },
  {
   "cell_type": "code",
   "execution_count": 54,
   "metadata": {
    "collapsed": true
   },
   "outputs": [],
   "source": [
    "norm_dataTrain = (imageTrain - imageTrain.mean())/imageTrain.std()\n",
    "norm_dataTrain = norm_dataTrain.fillna(0)\n",
    "\n",
    "norm_dataTest = (imTest - imTest.mean())/imTest.std()\n",
    "norm_dataTest = norm_dataTest.fillna(0)"
   ]
  },
  {
   "cell_type": "code",
   "execution_count": 57,
   "metadata": {},
   "outputs": [],
   "source": [
    "norm_labels = []\n",
    "for value in imageLabel.iterrows():\n",
    "    new_label = numpy.zeros(3)\n",
    "    new_label[value[1]]=1\n",
    "    norm_labels.append(new_label)\n",
    "norm_labels = numpy.array(norm_labels)"
   ]
  },
  {
   "cell_type": "code",
   "execution_count": 73,
   "metadata": {},
   "outputs": [
    {
     "name": "stdout",
     "output_type": "stream",
     "text": [
      "   Class\n",
      "9      2\n",
      "[ 0.  0.  1.]\n"
     ]
    }
   ],
   "source": [
    "print(imageLabel.ix[9:9,0:1])\n",
    "print(norm_labels[9])"
   ]
  },
  {
   "cell_type": "code",
   "execution_count": 59,
   "metadata": {
    "collapsed": true
   },
   "outputs": [],
   "source": [
    "train = norm_dataTrain.as_matrix()\n",
    "test = norm_dataTest.as_matrix()"
   ]
  },
  {
   "cell_type": "code",
   "execution_count": 61,
   "metadata": {},
   "outputs": [
    {
     "name": "stdout",
     "output_type": "stream",
     "text": [
      "(19906, 784)\n",
      "(6636, 784)\n",
      "(19906, 3)\n"
     ]
    }
   ],
   "source": [
    "print(train.shape)\n",
    "print(test.shape)\n",
    "print(norm_labels.shape)"
   ]
  },
  {
   "cell_type": "code",
   "execution_count": 63,
   "metadata": {},
   "outputs": [],
   "source": [
    "net = tflearn.input_data(shape=[None, 784])\n",
    "net = tflearn.fully_connected(net, 128, activation='ReLu')\n",
    "# add a second hidden layer\n",
    "net = tflearn.fully_connected(net, 64, activation='ReLu')\n",
    "# third layer, better going deeper than wider\n",
    "net = tflearn.fully_connected(net, 32, activation='ReLu')"
   ]
  },
  {
   "cell_type": "code",
   "execution_count": 64,
   "metadata": {
    "collapsed": true
   },
   "outputs": [],
   "source": [
    "net = tflearn.fully_connected(net, 3, activation='softmax')"
   ]
  },
  {
   "cell_type": "code",
   "execution_count": 65,
   "metadata": {
    "collapsed": true
   },
   "outputs": [],
   "source": [
    "net = tflearn.regression(net, optimizer='sgd', learning_rate=0.01, loss='categorical_crossentropy')\n",
    "model = tflearn.DNN(net)"
   ]
  },
  {
   "cell_type": "code",
   "execution_count": 66,
   "metadata": {},
   "outputs": [
    {
     "name": "stdout",
     "output_type": "stream",
     "text": [
      "Training Step: 8999  | total loss: \u001b[1m\u001b[32m0.85312\u001b[0m\u001b[0m | time: 1.500s\n",
      "| SGD | epoch: 050 | loss: 0.85312 - acc: 0.6146 -- iter: 17900/17915\n",
      "Training Step: 9000  | total loss: \u001b[1m\u001b[32m0.85312\u001b[0m\u001b[0m | time: 2.513s\n",
      "| SGD | epoch: 050 | loss: 0.85312 - acc: 0.6146 | val_loss: 0.84352 - val_acc: 0.6233 -- iter: 17915/17915\n",
      "--\n"
     ]
    }
   ],
   "source": [
    "model.fit(train, norm_labels,show_metric=True,validation_set=0.1,batch_size=100, n_epoch=50)"
   ]
  },
  {
   "cell_type": "code",
   "execution_count": 80,
   "metadata": {
    "collapsed": true
   },
   "outputs": [],
   "source": [
    "#ids=[]\n",
    "predictions=[]\n",
    "pred=model.predict(test)\n",
    "for i, values in enumerate(pred):\n",
    "    pred_digit=values.index(max(values))\n",
    "    #ids.append(i+1)\n",
    "    predictions.append(pred_digit)"
   ]
  },
  {
   "cell_type": "code",
   "execution_count": 85,
   "metadata": {},
   "outputs": [],
   "source": [
    "predictions\n",
    "dic = {0: 'YOUNG', 1: 'MIDDLE', 2: 'OLD'}\n",
    "#predictions = list(map(dict.get, predictions))"
   ]
  },
  {
   "cell_type": "code",
   "execution_count": 86,
   "metadata": {},
   "outputs": [],
   "source": [
    "predictions2 = [dic[x] for x in predictions]"
   ]
  },
  {
   "cell_type": "code",
   "execution_count": 87,
   "metadata": {},
   "outputs": [
    {
     "data": {
      "text/plain": [
       "['MIDDLE', 'YOUNG', 'MIDDLE', 'YOUNG']"
      ]
     },
     "execution_count": 87,
     "metadata": {},
     "output_type": "execute_result"
    }
   ],
   "source": [
    "predictions2[:4]"
   ]
  },
  {
   "cell_type": "code",
   "execution_count": 88,
   "metadata": {
    "collapsed": true
   },
   "outputs": [],
   "source": [
    "test = pd.read_csv('test.csv')\n",
    "sub = pd.DataFrame({\n",
    "    \"Class\": predictions2,\n",
    "    \"ID\": test['ID']\n",
    "})\n"
   ]
  },
  {
   "cell_type": "code",
   "execution_count": 89,
   "metadata": {
    "collapsed": true
   },
   "outputs": [],
   "source": [
    "sub.to_csv(\"submission.csv\", index=False)"
   ]
  },
  {
   "cell_type": "code",
   "execution_count": null,
   "metadata": {
    "collapsed": true
   },
   "outputs": [],
   "source": []
  }
 ],
 "metadata": {
  "kernelspec": {
   "display_name": "Python 3",
   "language": "python",
   "name": "python3"
  },
  "language_info": {
   "codemirror_mode": {
    "name": "ipython",
    "version": 3
   },
   "file_extension": ".py",
   "mimetype": "text/x-python",
   "name": "python",
   "nbconvert_exporter": "python",
   "pygments_lexer": "ipython3",
   "version": "3.5.2"
  }
 },
 "nbformat": 4,
 "nbformat_minor": 2
}
